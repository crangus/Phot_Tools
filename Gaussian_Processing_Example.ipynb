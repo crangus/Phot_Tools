{
 "cells": [
  {
   "cell_type": "markdown",
   "metadata": {},
   "source": [
    "Import modules as required|. \n",
    "\n",
    "To run this particular inplementation of gaussian processing, you'll need to install Eigen and George (more details here http://dfm.io/george/current/user/quickstart/)"
   ]
  },
  {
   "cell_type": "code",
   "execution_count": 1,
   "metadata": {},
   "outputs": [],
   "source": [
    "import os, sys\n",
    "import os.path\n",
    "import numpy as np\n",
    "import scipy as sp\n",
    "import pandas as pd\n",
    "import matplotlib.pyplot as plt\n",
    "import george\n",
    "from george.kernels import ExpSquaredKernel, Matern32Kernel\n",
    "import scipy.optimize as opt"
   ]
  },
  {
   "cell_type": "markdown",
   "metadata": {},
   "source": [
    "Gradient functions for optimisation of the kernel size"
   ]
  },
  {
   "cell_type": "code",
   "execution_count": 2,
   "metadata": {},
   "outputs": [],
   "source": [
    "def ll(p):\n",
    "    gp.set_parameter_vector(p)\n",
    "    return -gp.lnlikelihood(data['Mag'],quiet=True)\n",
    "\n",
    "def grad_ll(p):\n",
    "    gp.set_parameter_vector(p)\n",
    "    return -gp.grad_lnlikelihood(data['Mag'],quiet=True)"
   ]
  },
  {
   "cell_type": "markdown",
   "metadata": {},
   "source": [
    "Load in whatever data you want to interpolate"
   ]
  },
  {
   "cell_type": "code",
   "execution_count": 3,
   "metadata": {},
   "outputs": [],
   "source": [
    "data=pd.read_csv('iptf13bvn_V_band.dat',delim_whitespace=True,names=['MJD','Mag','MagErr'])"
   ]
  },
  {
   "cell_type": "markdown",
   "metadata": {},
   "source": [
    "GP-ing requires you to 'scale' the data so all values are between 0 and 1"
   ]
  },
  {
   "cell_type": "code",
   "execution_count": 4,
   "metadata": {},
   "outputs": [],
   "source": [
    "scale=data['Mag'].max()\n",
    "data['Mag'] /= scale\n",
    "data['MagErr'] /= scale"
   ]
  },
  {
   "cell_type": "markdown",
   "metadata": {},
   "source": [
    "Pick a kernel to interpolate your data with (e.g. guassian, matern 3/2, 5/2 etc). The form of the kernal can greatly influence your final interpolation (e.g. if the kernel form has a broader peak, it will likely smooth over wobbly regions of data). Depends what you are trying to achieve with your interpolation. Here I've just imported an exponential squared and Matern 3/2 kernel, but there are plenty to choose from (see the manual). \n",
    "\n",
    "Once you've set your kernel you also set an initial kernel radius (in x-space, which here is MJD). You can also add white noise at this stage too if you like."
   ]
  },
  {
   "cell_type": "code",
   "execution_count": 5,
   "metadata": {},
   "outputs": [],
   "source": [
    "gp = george.GP(Matern32Kernel(500))\n",
    "gp.compute(data['MJD'], data['MagErr'])\n",
    "p0 = gp.kernel.get_parameter_vector()[0]"
   ]
  },
  {
   "cell_type": "markdown",
   "metadata": {},
   "source": [
    "If you want to, you can optimise your kernel size for your data with the line below. However, this isn't nessessary (again, depends what science you want to get out of the interpolations). You can just comment out the next line if you want to use a fixed kernel size."
   ]
  },
  {
   "cell_type": "code",
   "execution_count": 6,
   "metadata": {},
   "outputs": [],
   "source": [
    "results = opt.minimize(ll, p0, jac=grad_ll)"
   ]
  },
  {
   "cell_type": "markdown",
   "metadata": {},
   "source": [
    "Finally, create some artifical x-space for your GP interpolation, then calculate the resulting mean function and covariance matrix for the interpolation. "
   ]
  },
  {
   "cell_type": "code",
   "execution_count": 7,
   "metadata": {},
   "outputs": [],
   "source": [
    "t = np.linspace(data['MJD'].iloc[0],data['MJD'].iloc[-1],500)\n",
    "mu, cov = gp.predict(data['Mag'], t)\n",
    "std = np.sqrt(np.diag(cov))"
   ]
  },
  {
   "cell_type": "markdown",
   "metadata": {},
   "source": [
    "Plot up your interpolation. Don't forget to re-scale your data!"
   ]
  },
  {
   "cell_type": "code",
   "execution_count": 8,
   "metadata": {},
   "outputs": [
    {
     "data": {
      "image/png": "[encoded data removed]",
      "text/plain": [
       "<Figure size 432x288 with 1 Axes>"
      ]
     },
     "metadata": {
      "needs_background": "light"
     },
     "output_type": "display_data"
    }
   ],
   "source": [
    "plt.errorbar(data['MJD'], data['Mag']*scale, yerr=data['MagErr']*scale, fmt='o',color='g')\n",
    "plt.fill_between(t, (mu+std)*scale, (mu-std)*scale, color='green', alpha=0.4)\n",
    "plt.plot(t, mu*scale,'g')\n",
    "plt.gca().invert_yaxis()\n",
    "plt.title('Some Awesome Lightcurve Interpolation')\n",
    "plt.xlabel('MJD')\n",
    "plt.ylabel('Mag')\n",
    "\n",
    "plt.show()\n"
   ]
  },
  {
   "cell_type": "code",
   "execution_count": null,
   "metadata": {},
   "outputs": [],
   "source": []
  },
  {
   "cell_type": "code",
   "execution_count": null,
   "metadata": {},
   "outputs": [],
   "source": []
  }
 ],
 "metadata": {
  "kernelspec": {
   "display_name": "Python 3",
   "language": "python",
   "name": "python3"
  },
  "language_info": {
   "codemirror_mode": {
    "name": "ipython",
    "version": 3
   },
   "file_extension": ".py",
   "mimetype": "text/x-python",
   "name": "python",
   "nbconvert_exporter": "python",
   "pygments_lexer": "ipython3",
   "version": "3.6.9"
  }
 },
 "nbformat": 4,
 "nbformat_minor": 2
}
